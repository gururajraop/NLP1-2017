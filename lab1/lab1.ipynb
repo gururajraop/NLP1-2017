{
 "cells": [
  {
   "cell_type": "code",
   "execution_count": 1,
   "metadata": {
    "collapsed": true
   },
   "outputs": [],
   "source": [
    "%matplotlib inline\n",
    "import matplotlib\n",
    "import numpy as np\n",
    "import matplotlib.pyplot as plt\n",
    "from collections import Counter\n",
    "from collections import defaultdict\n",
    "import itertools"
   ]
  },
  {
   "cell_type": "markdown",
   "metadata": {},
   "source": [
    "# Lab 1: Text Corpora and Language Modelling\n",
    "\n",
    "This lab is meant to help you get familiar with some language data, and use this data to estimate N-gram language models\n",
    "\n",
    "First you will use the **Penn Treebank**, which is a collection of newspaper articles from the newspaper \n",
    "The Wall Street Journal. The idea is to examine the data and notice interesting properties. This will not take more than a few lines of code.\n",
    "\n",
    "Then you will use a corpus consisting of **TedX** talks. This you will use to estimate an **N-gram language model** for different orders of N, and use this this for some tasks.\n",
    "\n",
    "The datasets are on blackboard under course materials. Download the zip and make sure to put the files in the same directory as the notebook.\n",
    "\n",
    "### Rules\n",
    "* The lab exercises should be made in **groups of two people**.\n",
    "\n",
    "* The deadline is **Tuesday 7 nov 16:59**.\n",
    "\n",
    "* The assignment should submitted to **Blackboard** as `.ipynb`. Only **one submission per group**.\n",
    "\n",
    "* The **filename** should be `lab1_lastname1_lastname2.ipynb`, so for example `lab1_Jurafsky_Martin.ipynb`.\n",
    "\n",
    "* The notebook is graded on a scale of **0-10**. The number of points for each question is indicated in parantheses. \n",
    "\n",
    "* The questions marked **optional** are not graded; they are an additional challenge for those interested in going the extra mile. \n",
    "\n",
    "Notes on implementation:\n",
    "\n",
    "* You should **write your code and answers in this iPython Notebook** (see http://ipython.org/notebook.html for reference material). If you have problems, please contact your teaching assistant.\n",
    "\n",
    "* Use only **one cell for code** and **one cell for markdown** answers!    \n",
    "\n",
    "    * Put all code in the cell with the `# YOUR CODE HERE` comment.\n",
    "    \n",
    "    * For theoretical question, put your solution in the YOUR ANSWER HERE cell.\n",
    "    \n",
    "* Test your code and **make sure we can run your notebook**"
   ]
  },
  {
   "cell_type": "markdown",
   "metadata": {},
   "source": [
    "# 1. Penn treebank\n",
    "\n",
    "## Exercise 1.1 (40 points, 5 points per subquestion )\n",
    "\n",
    "You are provided with a corpus containing words with their Part-of-Speech tags (POS-tags for short). The format is\n",
    "**word|POS** (one sentence per line) and the file name is **sec02-22.gold.tagged**. This data is extracted from Sections 02-22 from the Penn Treebank: these sections are most commonly used for training statistical models like POS-taggers and parsers.\n",
    "\n",
    "**[Hint]** **Figure 10.1** in chapter 10 of Jurafsky and Martin (see [here](https://web.stanford.edu/~jurafsky/slp3/10.pdf)) holds a summary of the 45 POS-tags used in the Penn Treebank tagset together with their meaning and some examples. (If you are keen on learning more about the word-classes represented POS-tags and their definitions you can do a litle reading ahead for next week and already have a look at section 10.1 of the same chapter).\n",
    "\n",
    "**[Hint]** the Python library [collections](https://docs.python.org/2/library/collections.html) has an object called `Counter` which will come in handy for this exercise."
   ]
  },
  {
   "cell_type": "markdown",
   "metadata": {},
   "source": [
    " "
   ]
  },
  {
   "cell_type": "markdown",
   "metadata": {},
   "source": [
    "**(a)** How large is the corpus? (i.e. how **many tokens**). And what is the size of the **vocabulary** used in this corpus? \n",
    "\n",
    "Estimate the vocabulary size both by **lowercasing** all the words as well as by leaving the words in their **original orthography**. What is an advantage of lowercasing all the words in your corpus? What is a notable downside? **Give examples.**"
   ]
  },
  {
   "cell_type": "code",
   "execution_count": 2,
   "metadata": {},
   "outputs": [
    {
     "name": "stdout",
     "output_type": "stream",
     "text": [
      "The original orthography corpus has 929552 tokens\n",
      "The original orthography vocabulary has 44210 words\n",
      "The lowercased corpus has 929552 tokens\n",
      "The lowercased vocabulary has 39384 words\n"
     ]
    }
   ],
   "source": [
    "with open('sec02-21.gold.tagged') as f:\n",
    "    \n",
    "    counter_org = Counter()\n",
    "    counter_lower = Counter()\n",
    "    counter_pos = Counter()\n",
    "    dict_of_pos_counters = {}\n",
    "    dict_of_words = defaultdict(list)\n",
    "    \n",
    "    for org_line in f:\n",
    "\n",
    "        word_pos_pairs = org_line.strip().split(' ')\n",
    "        \n",
    "        for word_pos in word_pos_pairs:\n",
    "            word, pos = word_pos.split('|', 1)\n",
    "            word_lower = word.lower()\n",
    "            \n",
    "            if not pos in dict_of_pos_counters:\n",
    "                dict_of_pos_counters[pos] = Counter()\n",
    "            \n",
    "            if not pos in dict_of_words[word]:\n",
    "                dict_of_words[word].append(pos)\n",
    "            \n",
    "            dict_of_pos_counters[pos][word] += 1           \n",
    "            counter_org[word] += 1\n",
    "            counter_lower[word_lower] += 1\n",
    "            counter_pos[pos] +=  1\n",
    "    \n",
    "    print('The original orthography corpus has %d tokens' % sum(counter_org.values()))      \n",
    "    print('The original orthography vocabulary has %d words' % len(counter_org))  \n",
    "    \n",
    "    print('The lowercased corpus has %d tokens' % sum(counter_lower.values()))      \n",
    "    print('The lowercased vocabulary has %d words' % len(counter_lower))   \n",
    "        "
   ]
  },
  {
   "cell_type": "markdown",
   "metadata": {},
   "source": [
    "There are totally 929552 tokens in the given corpus. The total number of unique words in the corpus is 44210 and the total number of unique words if all the words are lowercased is 39384.\n",
    "\n",
    "Lowercasing the words in the corpus has an advatage that it is case insensitive and treats the words of different case as same. This is specially useful when considering the words in the beginning of the sentence which usually will starts with a capital letter. For example, \"The\" in the beginning of the sentence would be considered as a different word compared to \"the\" somewhere in the middle of a sentence. Lowercasing the words in the corpus would help get rid of such issues.\n",
    "\n",
    "However there are few cons to lowercasing the words in the corpus. When the normal and lowercased words have entirely different meaning based on the context, lowercasing the words would be a bad approach. For example, the word brown in \"Thomas Brown\" and \"it's a brown pencil\" differs entirely. (Although this is case of ambiguity as well. But, here we are considering only the lowercase scenario)."
   ]
  },
  {
   "cell_type": "markdown",
   "metadata": {},
   "source": [
    "------\n",
    "For the rest of this exercise you should use the **original orthography** of the data when answering the questions.\n",
    "\n",
    "------\n"
   ]
  },
  {
   "cell_type": "markdown",
   "metadata": {},
   "source": [
    "**(b)** Plot a graph of word frequency versus rank of a word, in this corpus. Does this corpus obey **Zipf’s law**?"
   ]
  },
  {
   "cell_type": "code",
   "execution_count": 3,
   "metadata": {
    "scrolled": true
   },
   "outputs": [
    {
     "data": {
      "image/png": "[encoded data removed]",
      "text/plain": [
       "<matplotlib.figure.Figure at 0x2ab3928f080>"
      ]
     },
     "metadata": {},
     "output_type": "display_data"
    }
   ],
   "source": [
    "token, count = zip(*counter_org.most_common())\n",
    "plt.plot(range(len(counter_org)), count, marker=\".\")\n",
    "plt.yscale(\"log\")\n",
    "plt.xscale(\"log\")\n",
    "plt.ylabel(\"word frequency-->\")\n",
    "plt.xlabel(\"word rank-->\")\n",
    "plt.title(\"Word frequencies in sec02-21.gold.tagged corpus\")\n",
    "\n",
    "plt.show()"
   ]
  },
  {
   "cell_type": "markdown",
   "metadata": {},
   "source": [
    "**(c)** What are the **20 most common words** in the corpus and how often do they occur? What is the 50th most common word, the 100th and the 1000th and how often do they occur?"
   ]
  },
  {
   "cell_type": "code",
   "execution_count": 4,
   "metadata": {},
   "outputs": [
    {
     "name": "stdout",
     "output_type": "stream",
     "text": [
      "The 20 most common words in the corpus are:\n",
      "0 . (',', 48310)\n",
      "1 . ('the', 40839)\n",
      "2 . ('.', 38798)\n",
      "3 . ('of', 22782)\n",
      "4 . ('to', 22056)\n",
      "5 . ('a', 19171)\n",
      "6 . ('and', 15906)\n",
      "7 . ('in', 15085)\n",
      "8 . (\"'s\", 9249)\n",
      "9 . ('that', 7951)\n",
      "10 . ('for', 7912)\n",
      "11 . ('$', 7125)\n",
      "12 . ('is', 6893)\n",
      "13 . ('The', 6791)\n",
      "14 . ('said', 5597)\n",
      "15 . ('on', 5112)\n",
      "16 . ('%', 4871)\n",
      "17 . ('it', 4639)\n",
      "18 . ('by', 4450)\n",
      "19 . ('from', 4437)\n",
      "\n",
      "The 50th most common word is: ('had', 1755)\n",
      "The 100th most common word is: ('A', 860)\n",
      "The 1000th most common word is: ('man', 109)\n"
     ]
    }
   ],
   "source": [
    "print('The 20 most common words in the corpus are:')\n",
    "for rank, word in zip(range(20), counter_org.most_common(20)):\n",
    "    print(rank, '.', word)\n",
    "\n",
    "\n",
    "print('\\nThe 50th most common word is:' ,counter_org.most_common(50)[-1])\n",
    "print('The 100th most common word is:' ,counter_org.most_common(100)[-1])\n",
    "print('The 1000th most common word is:', counter_org.most_common(1000)[-1])"
   ]
  },
  {
   "cell_type": "markdown",
   "metadata": {},
   "source": [
    "**(d)** How many different Part-of-speech tags are present in the corpus?"
   ]
  },
  {
   "cell_type": "code",
   "execution_count": 5,
   "metadata": {
    "scrolled": true
   },
   "outputs": [
    {
     "name": "stdout",
     "output_type": "stream",
     "text": [
      "There are totally 48 different POS tags present in the corpus\n"
     ]
    }
   ],
   "source": [
    "print('There are totally %d different POS tags present in the corpus' %len(counter_pos))"
   ]
  },
  {
   "cell_type": "markdown",
   "metadata": {},
   "source": [
    "**(e)** Print a list of the **10 most commonly occurring POS tags** in the data. For each of these POS tags, what are the **3 most common words** that belong to that class?"
   ]
  },
  {
   "cell_type": "code",
   "execution_count": 6,
   "metadata": {},
   "outputs": [
    {
     "name": "stdout",
     "output_type": "stream",
     "text": [
      "The 10 most commonly occurring POS tags and 3 most common words that belong to those tags in the data are\n",
      "\n",
      "POS NN occurs 132134 times.\n",
      "The 3 most common words that belong to NN are\n",
      "[('%', 4866), ('company', 2457), ('year', 2220)]\n",
      "\n",
      "POS IN occurs 99413 times.\n",
      "The 3 most common words that belong to IN are\n",
      "[('of', 22778), ('in', 14852), ('for', 7907)]\n",
      "\n",
      "POS NNP occurs 90711 times.\n",
      "The 3 most common words that belong to NNP are\n",
      "[('Mr.', 4147), ('U.S.', 1577), ('Corp.', 1186)]\n",
      "\n",
      "POS DT occurs 82147 times.\n",
      "The 3 most common words that belong to DT are\n",
      "[('the', 40831), ('a', 19151), ('The', 6753)]\n",
      "\n",
      "POS JJ occurs 59643 times.\n",
      "The 3 most common words that belong to JJ are\n",
      "[('new', 1396), ('other', 1298), ('last', 990)]\n",
      "\n",
      "POS NNS occurs 59332 times.\n",
      "The 3 most common words that belong to NNS are\n",
      "[('years', 1164), ('shares', 1128), ('sales', 939)]\n",
      "\n",
      "POS , occurs 48314 times.\n",
      "The 3 most common words that belong to , are\n",
      "[(',', 48310), ('an', 1), ('2', 1)]\n",
      "\n",
      "POS . occurs 39252 times.\n",
      "The 3 most common words that belong to . are\n",
      "[('.', 38798), ('?', 392), ('!', 62)]\n",
      "\n",
      "POS CD occurs 36148 times.\n",
      "The 3 most common words that belong to CD are\n",
      "[('million', 4355), ('billion', 1780), ('one', 1203)]\n",
      "\n",
      "POS RB occurs 30232 times.\n",
      "The 3 most common words that belong to RB are\n",
      "[(\"n't\", 3211), ('also', 1420), ('not', 1287)]\n"
     ]
    }
   ],
   "source": [
    "print('The 10 most commonly occurring POS tags and 3 most common words that belong to those tags in the data are')\n",
    "for pos, count in counter_pos.most_common(10):\n",
    "    print('\\nPOS %s occurs %d times.\\nThe 3 most common words that belong to %s are' % (pos, count, pos))\n",
    "    print(dict_of_pos_counters[pos].most_common(3))\n"
   ]
  },
  {
   "cell_type": "markdown",
   "metadata": {},
   "source": [
    "**(f)** A single word may have several POS-tags. For example, *record* can be a both a **noun** *(buy a record)* or a **verb** *(record a lecture)*. This make POS-tags extremely useful for **disambiguation**.\n",
    "\n",
    "What percentage of the words in the vocabulary is **ambiguous**? (i.e. have more than one POS tag?) What are the 10 most frequent combinations of POS tags in the case of ambitguity? Which words are **most ambiguous**? Give some of them."
   ]
  },
  {
   "cell_type": "code",
   "execution_count": 7,
   "metadata": {
    "scrolled": true
   },
   "outputs": [
    {
     "name": "stdout",
     "output_type": "stream",
     "text": [
      "There are 5955 distinct words that are ambiguous in the vocabulory\n",
      "Total percentage of ambiguous words in the vocabulory = 13.469803%\n",
      "\n",
      "10 most frequent combinations of POS tags in case of ambiguity\n",
      "[(('VBN', 'VBD'), 580), (('JJ', 'NN'), 563), (('VB', 'VBP'), 545), (('NN', 'VB'), 506), (('VBD', 'VBN'), 480), (('NNP', 'NN'), 441), (('NN', 'JJ'), 399), (('NN', 'VBP'), 280), (('VBN', 'JJ'), 272), (('VB', 'NN'), 269)]\n",
      "\n",
      "Top 10 ambiguous words\n",
      "['set', 'many', 'open', 'down', 'in', 'that', 'own', 'cut', 'point', 'left']\n"
     ]
    }
   ],
   "source": [
    "ambiguous_words = dict_of_words.copy()\n",
    "for word, pos_list in dict_of_words.items():\n",
    "    if len(pos_list) == 1:\n",
    "        del ambiguous_words[word]\n",
    "        \n",
    "print('There are %d distinct words that are ambiguous in the vocabulory' %len(ambiguous_words.keys()))\n",
    "print('Total percentage of ambiguous words in the vocabulory = %f%%' %(100*len(ambiguous_words.keys())/len(counter_org)))\n",
    "\n",
    "ambiguous_pos_comb_counter = Counter()\n",
    "for _, pos_list in ambiguous_words.items():\n",
    "    for comb in itertools.combinations(pos_list, 2):\n",
    "        ambiguous_pos_comb_counter[comb] += 1\n",
    "\n",
    "print('\\n10 most frequent combinations of POS tags in case of ambiguity')\n",
    "print(ambiguous_pos_comb_counter.most_common(10))\n",
    "\n",
    "top_ambiguous_words = sorted(ambiguous_words, key=lambda k:len(ambiguous_words[k]), reverse=True)[:10]\n",
    "print('\\nTop 10 ambiguous words')\n",
    "print(top_ambiguous_words)"
   ]
  },
  {
   "cell_type": "markdown",
   "metadata": {},
   "source": [
    "**(g)**  Print some of these words with their multiple POS-tags. Do you **understand the ambiguity**? Use figure 10.1 mentioned above to interpret the POS-tags."
   ]
  },
  {
   "cell_type": "code",
   "execution_count": 8,
   "metadata": {},
   "outputs": [
    {
     "name": "stdout",
     "output_type": "stream",
     "text": [
      "Top 10 ambiguous words and their pos\n",
      "set : ['VBN', 'NN', 'VBD', 'VB', 'VBP', 'JJ', 'VBZ']\n",
      "many : ['JJ', 'NN', 'RB', 'DT', 'PDT', 'VB', 'NP']\n",
      "open : ['VB', 'JJ', 'RP', 'RB', 'VBP', 'NN', 'VBZ']\n",
      "down : ['RB', 'RP', 'IN', 'JJ', 'RBR', 'VBP', 'NN']\n",
      "in : ['IN', 'RP', 'RB', 'CC', 'FW', 'RBR']\n",
      "that : ['IN', 'WDT', 'DT', 'RB', 'VBP', 'NN']\n",
      "own : ['JJ', 'VB', 'VBP', 'NN', 'VBZ', 'VBN']\n",
      "cut : ['VB', 'VBD', 'NN', 'VBN', 'VBP', 'JJ']\n",
      "point : ['NN', 'VB', 'VBP', 'VBZ', 'JJ', 'VBN']\n",
      "left : ['VBD', 'VBN', 'JJ', 'RB', 'NN', 'VB']\n"
     ]
    }
   ],
   "source": [
    "print('Top 10 ambiguous words and their pos')\n",
    "for word in top_ambiguous_words:\n",
    "    print(word, ':', ambiguous_words[word])"
   ]
  },
  {
   "cell_type": "markdown",
   "metadata": {},
   "source": [
    "We can see that the ambiguous words have more than one POS associated with them which is the main cause for the ambiguity.\n",
    "\n",
    "For example, lets take the word \"open\". Based on the above results, open takes 7 different POS tags in the given corpus. Clearly 'open' can be a verb as in \"open the door\", or adjective as in \"open minded\", etc. Thus, based on the context the words can take different POS tags which leads to ambiguity issue."
   ]
  },
  {
   "cell_type": "markdown",
   "metadata": {},
   "source": [
    "**(h)** Ambiguous words do not account for a great percentage of the vocabulary. Yet they are among the most commonly occuring words of the English language. What **percentage of the dataset is ambiguous**?"
   ]
  },
  {
   "cell_type": "code",
   "execution_count": 9,
   "metadata": {},
   "outputs": [
    {
     "name": "stdout",
     "output_type": "stream",
     "text": [
      "Total percentage of ambiguous words in original corpus :55.079006%\n"
     ]
    }
   ],
   "source": [
    "count_ambiguous_words = 0\n",
    "for word, _ in ambiguous_words.items():\n",
    "    count_ambiguous_words += counter_org[word]\n",
    "    \n",
    "print('Total percentage of ambiguous words in original corpus :%f%%' %(100*count_ambiguous_words/sum(counter_org.values())))"
   ]
  },
  {
   "cell_type": "markdown",
   "metadata": {},
   "source": [
    "## Exercise 1.2 (10 points, 5 per subquestion)"
   ]
  },
  {
   "cell_type": "markdown",
   "metadata": {},
   "source": [
    "You are also provided with another file called **sec00.gold.tagged**. \n",
    "Section 00 of the Penn Treebank is typically used as development data."
   ]
  },
  {
   "cell_type": "markdown",
   "metadata": {},
   "source": [
    "**(a)** How many **unseen words** are present in the development data (i.e., words that have not occurred in the training data)?"
   ]
  },
  {
   "cell_type": "code",
   "execution_count": 10,
   "metadata": {
    "scrolled": false
   },
   "outputs": [
    {
     "name": "stdout",
     "output_type": "stream",
     "text": [
      "Total number of unseen words :  1728\n"
     ]
    }
   ],
   "source": [
    "with open('sec00.gold.tagged') as f:\n",
    "    new_counter_pos = Counter()\n",
    "    total_unseen_words = 0\n",
    "    seen_words = [words for words, _ in dict_of_words.items()]\n",
    "    \n",
    "    for org_line in f:\n",
    "        word_pos_pairs = org_line.strip().split(' ')\n",
    "        \n",
    "        for word_pos in word_pos_pairs:\n",
    "            word, pos = word_pos.split('|', 1)\n",
    "            \n",
    "            if not word in seen_words:\n",
    "                total_unseen_words += 1\n",
    "                new_counter_pos[pos] +=  1\n",
    "            \n",
    "    print('Total number of unseen words : ', total_unseen_words)"
   ]
  },
  {
   "cell_type": "markdown",
   "metadata": {},
   "source": [
    "**(b)** What are the three **POS tag categories** that the most **unseen words** belong to?"
   ]
  },
  {
   "cell_type": "code",
   "execution_count": 11,
   "metadata": {
    "scrolled": true
   },
   "outputs": [
    {
     "name": "stdout",
     "output_type": "stream",
     "text": [
      "Top 3 POS tag categories that the most unseen words belong to\n",
      "POS NNP occurs 815 times\n",
      "POS JJ occurs 258 times\n",
      "POS NN occurs 210 times\n"
     ]
    }
   ],
   "source": [
    "print('Top 3 POS tag categories that the most unseen words belong to')\n",
    "for pos, count in new_counter_pos.most_common(3):\n",
    "    print('POS %s occurs %d times' % (pos, count))"
   ]
  },
  {
   "cell_type": "markdown",
   "metadata": {},
   "source": [
    "# 2. Language Models\n",
    "\n",
    "This part of the lab will be covered in the Wednesday lecture. If you have prior exposure to NLP, go ahead and finish this part! If you don't, start anyway, and this part will be clear after the lecture. \n",
    "\n",
    "Reference **chapter 4** of J&M *Language Modeling with N-Grams*. \n",
    "\n",
    "----------\n",
    "\n",
    "Models that assign **probabilities** to **sequences of words** are called language **language\n",
    "modelels** or **LMs**. The simplest model that assigns probabilities to sentences and sequences of words is the **N-gram** model.\n",
    "\n",
    "Recall that an *N*-gram language model uses **conditional probabilities** of the form\n",
    "    \n",
    "$$P(w_k \\mid w_{k-N+1} \\dots w_{k-1})$$\n",
    "\n",
    "to **approximate** the full **joint probability**\n",
    "\n",
    "$$P(w_1 \\dots w_n)$$\n",
    "\n",
    "of a sequence of words $w_1 \\dots w_n$.\n",
    "\n",
    "The easiest way of obtaining estimates for the probabilities $P(w_k \\mid w_{k-N+1} \\dots w_{k-1})$ is to use the **maximum likelihood estimate** or **MLE**, a widely used statistical estimation method ([read more]((https://en.wikipedia.org/wiki/Maximum_likelihood_estimation)). You count and normalize:\n",
    "\n",
    "$$P_{MLE}(w_k \\mid w_{k-N+1} \\dots w_{k-1}) = \\frac{C(w_{k-N+1} \\dots w_{k-1} w_k)}{C(w_{k-N+1} \\dots w_{k-1})}.$$\n",
    "\n",
    "\n",
    "## Exercise 2.1 (25 points)\n",
    "\n",
    "**(a) ** Complete the function `train_ngram` so that you can train a count-based $N$-gram language model on the data found in `data/ted-train.txt` and train this for $N=2,3,4$. **15 points**\n",
    "\n",
    "**(b) ** Extend the function above so that it accepts a parameter `k` for optional add-$k$ smoothing. **10 points**\n",
    "\n",
    "**[Datastructure hint]** If you store the smoothed language in a naive manner (that is, to store *all* the numbers separately) your datastructure will get huge! If $V$ is the vocabulary then the smoothed bigram model assigns probabilities to $|V|^2$ entries. If $|V|$ is around 80k, the naive way requires you to store more than 64 billion floats. Yet almost all of these are actually just $P(w_n|w_{n-1}) = \\frac{k}{N + k|V|}$, with $k$ the value with which you smooth and $N=C(w_{n-1})$. Think about how you use this fact to make your model work in practice."
   ]
  },
  {
   "cell_type": "markdown",
   "metadata": {},
   "source": [
    "**[Python hint]** The `collections` library has another useful datastructure: the `defaultdict`. Some example uses:"
   ]
  },
  {
   "cell_type": "code",
   "execution_count": 12,
   "metadata": {},
   "outputs": [
    {
     "data": {
      "text/plain": [
       "0.0"
      ]
     },
     "execution_count": 12,
     "metadata": {},
     "output_type": "execute_result"
    }
   ],
   "source": [
    "from collections import defaultdict\n",
    "\n",
    "d = defaultdict(float)\n",
    "d[\"new key\"]"
   ]
  },
  {
   "cell_type": "markdown",
   "metadata": {},
   "source": [
    "Compare that to an ordinary dictionary:"
   ]
  },
  {
   "cell_type": "code",
   "execution_count": 13,
   "metadata": {},
   "outputs": [
    {
     "ename": "KeyError",
     "evalue": "'new key'",
     "output_type": "error",
     "traceback": [
      "\u001b[1;31m---------------------------------------------------------------------------\u001b[0m",
      "\u001b[1;31mKeyError\u001b[0m                                  Traceback (most recent call last)",
      "\u001b[1;32m<ipython-input-13-c19a7fd7bc46>\u001b[0m in \u001b[0;36m<module>\u001b[1;34m()\u001b[0m\n\u001b[0;32m      1\u001b[0m \u001b[0md\u001b[0m \u001b[1;33m=\u001b[0m \u001b[0mdict\u001b[0m\u001b[1;33m(\u001b[0m\u001b[1;33m)\u001b[0m\u001b[1;33m\u001b[0m\u001b[0m\n\u001b[1;32m----> 2\u001b[1;33m \u001b[0md\u001b[0m\u001b[1;33m[\u001b[0m\u001b[1;34m\"new key\"\u001b[0m\u001b[1;33m]\u001b[0m\u001b[1;33m\u001b[0m\u001b[0m\n\u001b[0m",
      "\u001b[1;31mKeyError\u001b[0m: 'new key'"
     ]
    }
   ],
   "source": [
    "d = dict()\n",
    "d[\"new key\"]"
   ]
  },
  {
   "cell_type": "markdown",
   "metadata": {},
   "source": [
    "Other datatypes as `default_factory`:"
   ]
  },
  {
   "cell_type": "code",
   "execution_count": 14,
   "metadata": {},
   "outputs": [
    {
     "data": {
      "text/plain": [
       "0"
      ]
     },
     "execution_count": 14,
     "metadata": {},
     "output_type": "execute_result"
    }
   ],
   "source": [
    "d = defaultdict(int)\n",
    "d[\"new key\"]"
   ]
  },
  {
   "cell_type": "code",
   "execution_count": 15,
   "metadata": {},
   "outputs": [
    {
     "data": {
      "text/plain": [
       "[]"
      ]
     },
     "execution_count": 15,
     "metadata": {},
     "output_type": "execute_result"
    }
   ],
   "source": [
    "d = defaultdict(list)\n",
    "d[\"new key\"]"
   ]
  },
  {
   "cell_type": "markdown",
   "metadata": {},
   "source": [
    "Converting an already existing `dict`:"
   ]
  },
  {
   "cell_type": "code",
   "execution_count": 16,
   "metadata": {},
   "outputs": [
    {
     "name": "stdout",
     "output_type": "stream",
     "text": [
      "value\n",
      "0.0\n"
     ]
    }
   ],
   "source": [
    "d1 = {k: \"value\" for k in range(1, 11)}\n",
    "d = defaultdict(float, d1) # convert it to a defaultdict\n",
    "print(d[5])\n",
    "print(d[100])"
   ]
  },
  {
   "cell_type": "markdown",
   "metadata": {},
   "source": [
    "This doesn't work:"
   ]
  },
  {
   "cell_type": "code",
   "execution_count": 17,
   "metadata": {},
   "outputs": [
    {
     "ename": "TypeError",
     "evalue": "first argument must be callable or None",
     "output_type": "error",
     "traceback": [
      "\u001b[1;31m---------------------------------------------------------------------------\u001b[0m",
      "\u001b[1;31mTypeError\u001b[0m                                 Traceback (most recent call last)",
      "\u001b[1;32m<ipython-input-17-89e9c9b71b5c>\u001b[0m in \u001b[0;36m<module>\u001b[1;34m()\u001b[0m\n\u001b[1;32m----> 1\u001b[1;33m \u001b[0md\u001b[0m \u001b[1;33m=\u001b[0m \u001b[0mdefaultdict\u001b[0m\u001b[1;33m(\u001b[0m\u001b[1;36m10\u001b[0m\u001b[1;33m)\u001b[0m\u001b[1;33m\u001b[0m\u001b[0m\n\u001b[0m",
      "\u001b[1;31mTypeError\u001b[0m: first argument must be callable or None"
     ]
    }
   ],
   "source": [
    "d = defaultdict(10)"
   ]
  },
  {
   "cell_type": "markdown",
   "metadata": {},
   "source": [
    "Use a `lambda` to make the number `10` `callable`\":"
   ]
  },
  {
   "cell_type": "code",
   "execution_count": 18,
   "metadata": {},
   "outputs": [
    {
     "data": {
      "text/plain": [
       "10"
      ]
     },
     "execution_count": 18,
     "metadata": {},
     "output_type": "execute_result"
    }
   ],
   "source": [
    "d = defaultdict(lambda: 10)\n",
    "d[\"new key\"]"
   ]
  },
  {
   "cell_type": "code",
   "execution_count": 19,
   "metadata": {},
   "outputs": [
    {
     "data": {
      "text/plain": [
       "defaultdict(float, {})"
      ]
     },
     "execution_count": 19,
     "metadata": {},
     "output_type": "execute_result"
    }
   ],
   "source": [
    "d = defaultdict(lambda: defaultdict(float))\n",
    "d[\"new key\"]"
   ]
  },
  {
   "cell_type": "markdown",
   "metadata": {},
   "source": [
    "Clever use of a `defaultdict` can be the solution to the problem of data-storing in a smoothing $N$-gram pointed out above:\n",
    "    \n",
    "    ngram = defaultdict(lambda: k/(N+kV), ngram)"
   ]
  },
  {
   "cell_type": "markdown",
   "metadata": {},
   "source": [
    "The following function is given:"
   ]
  },
  {
   "cell_type": "code",
   "execution_count": 2,
   "metadata": {
    "collapsed": true
   },
   "outputs": [],
   "source": [
    "def read(fname, max_lines=np.inf):\n",
    "    \"\"\"\n",
    "    Reads in the data in fname and returns it as\n",
    "    one long list of words. Also returns a vocabulary in\n",
    "    the form of a word2index and index2word dictionary.\n",
    "    \"\"\"\n",
    "    data = []\n",
    "    # w2i will automatically keep a counter to asign to new words\n",
    "    w2i = defaultdict(lambda: len(w2i))\n",
    "    i2w = dict()\n",
    "    start = \"<s>\"\n",
    "    end = \"</s>\"\n",
    "    \n",
    "    with open(fname, \"r\", encoding=\"utf8\") as fh:\n",
    "        for k, line in enumerate(fh):\n",
    "            if k > max_lines:\n",
    "                break\n",
    "            words = line.strip().split()\n",
    "            # assign an index to each word\n",
    "            for w in words:\n",
    "                i2w[w2i[w]] = w # trick\n",
    "            \n",
    "            sent = [start] + words + [end]\n",
    "            data.append(sent)\n",
    "\n",
    "    return data, w2i, i2w\n",
    "\n",
    "train_file = \"ted-train.txt\"\n",
    "data, w2i, i2w = read(train_file)"
   ]
  },
  {
   "cell_type": "code",
   "execution_count": 3,
   "metadata": {},
   "outputs": [
    {
     "data": {
      "text/plain": [
       "['<s>',\n",
       " 'Both',\n",
       " 'are',\n",
       " 'necessary',\n",
       " ',',\n",
       " 'but',\n",
       " 'it',\n",
       " 'can',\n",
       " 'be',\n",
       " 'too',\n",
       " 'much',\n",
       " 'of',\n",
       " 'a',\n",
       " 'good',\n",
       " 'thing',\n",
       " '.',\n",
       " '</s>']"
      ]
     },
     "execution_count": 3,
     "metadata": {},
     "output_type": "execute_result"
    }
   ],
   "source": [
    "data[2]"
   ]
  },
  {
   "cell_type": "code",
   "execution_count": 4,
   "metadata": {},
   "outputs": [
    {
     "name": "stdout",
     "output_type": "stream",
     "text": [
      "Training unigram and ngram models with n=2,3,4 with smoothing(k=1)\n",
      "Training 2-gram with unigram and k=1\n",
      "Training 3-gram with unigram and k=1\n",
      "Training 4-gram with unigram and k=1\n",
      "\n",
      "Training unigram and ngram models with n=2,3,4 without smoothing(k=0)\n",
      "Training 2-gram with unigram and k=0\n",
      "Training 3-gram with unigram and k=0\n",
      "Training 4-gram with unigram and k=0\n"
     ]
    }
   ],
   "source": [
    "def train_ngram(data, N, k=0):\n",
    "    \"\"\"\n",
    "    Trains an n-gram language model with optional add-k smoothing\n",
    "    and additionaly returns the unigram model\n",
    "    \n",
    "    :param data: text-data as returned by read\n",
    "    :param N: (N>1) the order of the ngram e.g. N=2 gives a bigram\n",
    "    :param k: optional add-k smoothing\n",
    "    :returns: ngram and unigram\n",
    "    \"\"\"\n",
    "    \n",
    "    ngram_counter = defaultdict(Counter) # ngram[history][word] = #(history,word)\n",
    "    \n",
    "    data_size = sum([len(sentence) for sentence in data]) #total number of words in the data (can include repeated words)\n",
    "    unpacked_data = [word for sent in data for word in sent]\n",
    "    unigram_counter = defaultdict(float, Counter(unpacked_data)) # default prob is 0.0 \n",
    "    vocab_size = len(unigram_counter.keys()) #total number of unique words\n",
    "    unigram = defaultdict(lambda: k / (data_size + k * vocab_size))\n",
    "    \n",
    "    ngram = defaultdict(lambda: defaultdict(lambda: 1 / vocab_size if k > 0 else 0))\n",
    "        \n",
    "    # Calculate n-gram frequencies\n",
    "    for sentence in data:\n",
    "        for hist in zip(*[sentence[i:] for i in range(N)]):\n",
    "            history = hist[:N-1]\n",
    "            word = hist[N-1] \n",
    "            ngram[history][word] += 1\n",
    "            \n",
    "    # Calculate unigram probs\n",
    "    for word in unigram_counter.keys():\n",
    "        unigram[word] = unigram_counter[word] / data_size \n",
    "        \n",
    "    # Calculate ngram probs\n",
    "    for history, word_counts in ngram_counter.items():\n",
    "        history_count = sum(word_counts.values())\n",
    "        ngram[history] = defaultdict(lambda: k / (history_count + k * vocab_size))\n",
    "        for word, word_count in word_counts.items():\n",
    "            ngram[history][word] = (k + word_count) / (history_count + k * vocab_size)\n",
    "            \n",
    "    return ngram, unigram\n",
    "\n",
    "def train_ngram_models(train_file, N, k=0):\n",
    "    language_models = {}\n",
    "    \n",
    "    for n in N:\n",
    "        print(\"Training %d-gram with unigram and k=%d\" %(n, k))\n",
    "        language_models[n], language_models[1] = train_ngram(data, n, k)\n",
    "        \n",
    "    return language_models\n",
    "    \n",
    "\n",
    "data, w2i, i2w = read(\"ted-train.txt\")\n",
    "N = [2, 3, 4]\n",
    "print('Training unigram and ngram models with n=2,3,4 with smoothing(k=1)')\n",
    "smoothed_models = train_ngram_models(data, N, k=1)\n",
    "unigram_smoothed, bigram_smoothed, trigram_smoothed, fourgram_smoothed = tuple(smoothed_models.values())\n",
    "\n",
    "print('\\nTraining unigram and ngram models with n=2,3,4 without smoothing(k=0)')\n",
    "unsmoothed_models = train_ngram_models(data, N)\n",
    "unigram_unsmoothed, bigram_unsmoothed, trigram_unsmoothed, fourgram_unsmoothed = tuple(unsmoothed_models.values())"
   ]
  },
  {
   "cell_type": "markdown",
   "metadata": {},
   "source": [
    "## Exercise 2.2 (5 points)\n",
    "\n",
    "You can use an *N*-gram language model to **generate text**. The higher the order *N* the better your model will be able to catch the long-range dependecies that occur in actual sentences and the better your changes are at generating sensible text. But beware: **sparsity** of language data will quickly cause your model to reproduce entire lines from your training data; in such cases only one $w_k$ was observed for the histories $w_{k-N+1}\\dots w_{k-1}$ in the entire training-set.\n",
    "\n",
    "**Complete** the function `generate_sent`. It takes a language model `lm` and an order `N` and should generate a sentence by **sampling** from the language model.\n",
    "\n",
    "**[Hint]** You can use the method of [inverse transform sampling](https://en.wikipedia.org/wiki/Inverse_transform_sampling) to generate a sample from a **categorical distribution**, $p_1\\dots p_k$ such that $p_i \\geq 0$ and $\\sum_{i=1}^k p_i = 1$, as follows:"
   ]
  },
  {
   "cell_type": "code",
   "execution_count": 5,
   "metadata": {},
   "outputs": [
    {
     "name": "stdout",
     "output_type": "stream",
     "text": [
      "2\n",
      "Counter({2: 510, 3: 195, 1: 190, None: 105})\n"
     ]
    }
   ],
   "source": [
    "from random import random\n",
    "\n",
    "P = [0.2,0.5,0.2,0.1]\n",
    "\n",
    "def sample(P):\n",
    "    u = random() # uniformly random number between 0 and 1\n",
    "    p = 0\n",
    "    for i, p_i in enumerate(P):\n",
    "        if p > u: \n",
    "            return i # the first i s.t. p1 + ... + pi > u\n",
    "        p += p_i\n",
    "        \n",
    "print(sample(P))\n",
    "\n",
    "print(Counter([sample(P) for i in range(1000)])) # check to see if the law of large numbers is still true"
   ]
  },
  {
   "cell_type": "markdown",
   "metadata": {},
   "source": [
    "Inverse transform sampling in the words of Jurafsky and Martin:\n",
    "\n",
    "> Imagine all the words of the English language covering the probability space\n",
    "between 0 and 1, each word covering an interval proportional to its frequency. We\n",
    "choose a random value between 0 and 1 and print the word whose interval includes\n",
    "this chosen value.\n",
    "\n",
    "(J&M, section 4.3)"
   ]
  },
  {
   "cell_type": "code",
   "execution_count": 6,
   "metadata": {},
   "outputs": [
    {
     "name": "stdout",
     "output_type": "stream",
     "text": [
      "Generating sentences from 3-gram\n",
      "1. Cook-Deegan\n",
      "2. how do what did too .\n",
      "3. Here 's call my case came to remember from Norway .\n",
      "4. Gandhi or even , real solution and they made in Japan .\n",
      "5. can go into sustainability and they made in Japan .\n",
      "6. win for that promised rivers do what did too .\n",
      "7. easily as they made in Japan .\n",
      "8. Here 's call my case came to remember from Norway .\n",
      "9. insurance industry and they made in Japan .\n",
      "10. learning-curve\n"
     ]
    }
   ],
   "source": [
    "def generate_sent(lm, N):\n",
    "    sentence = []\n",
    "    \n",
    "    # Sample sentence head\n",
    "    for n in range(1, N):\n",
    "        ngram = lm[n] \n",
    "        \n",
    "        # Unigram\n",
    "        if n == 1:\n",
    "            vocab, probs = zip(*ngram.items())\n",
    "            word_index = sample(probs)\n",
    "            #check if the word chosen is end of sentence. If so, recurse for another head \n",
    "            if vocab[word_index] in (\".\", \"</s>\"):\n",
    "                return generate_sent(lm, N)\n",
    "            \n",
    "            sentence.append(vocab[word_index])\n",
    "            \n",
    "        # Bigram and higher order n-grams\n",
    "        else: \n",
    "            history = sentence[len(sentence)-N+1:]\n",
    "            word_probs = ngram[tuple(history)]\n",
    "            vocab, probs = zip(*word_probs.items())\n",
    "            word_index = sample(probs)\n",
    "            \n",
    "            if word_index is not None:\n",
    "                sentence.append(vocab[word_index])\n",
    "            else:\n",
    "                return \" \".join(sentence)\n",
    "                \n",
    "    # Sample the remaining part of the sentence\n",
    "    ngram = lm[N]\n",
    "    while word_index is not None:\n",
    "        history = sentence[len(sentence)-N+1:]\n",
    "        word_probs = ngram[tuple(history)]\n",
    "        \n",
    "        # If the sample returns none, break\n",
    "        if len(word_probs) == 0:\n",
    "            break\n",
    "            \n",
    "        vocab, probs = zip(*word_probs.items())\n",
    "        word_index = sample(probs)  \n",
    "        if word_index is not None:\n",
    "            sentence.append(vocab[word_index])\n",
    "            \n",
    "    return \" \".join(sentence)\n",
    "\n",
    "print(\"Generating sentences from 3-gram\")\n",
    "for i in range(10):\n",
    "    print(\"%d. %s\" %(i+1, generate_sent(unsmoothed_models, 2)))"
   ]
  },
  {
   "cell_type": "markdown",
   "metadata": {},
   "source": [
    "### [Optional]\n",
    "\n",
    "For how many of the histories $w_{k-N+1}\\dots w_{k-1}$ is the number of continuations $w_n$ equal to **one**? Calculate the percentage of such cases for the different orders *N*.\n",
    "\n",
    "And which history has the **most possible continuations**?"
   ]
  },
  {
   "cell_type": "code",
   "execution_count": 7,
   "metadata": {},
   "outputs": [
    {
     "name": "stdout",
     "output_type": "stream",
     "text": [
      "For n=2, 47.767524% of the histories have single continuation\n",
      "For n=3, 71.903009% of the histories have single continuation\n",
      "For n=4, 85.718728% of the histories have single continuation\n"
     ]
    }
   ],
   "source": [
    "for n, model in unsmoothed_models.items():\n",
    "    if n == 1: continue  # Unigrams don't have history\n",
    "    history_with_single_cont = [history for history, word_counts in model.items() if len(word_counts) == 1]\n",
    "    print(\"For n=%d, %f%% of the histories have single continuation\" %(n, len(history_with_single_cont)*100/len(model)))"
   ]
  },
  {
   "cell_type": "markdown",
   "metadata": {},
   "source": [
    "## Excercise 2.3 (5 points)\n",
    "\n",
    "Let $V$ denote our vocabulary. Recall that for any $w$ in $V$ `bigram[w]` defines a conditional probability $p(v|w)$ over $v$ in $V$. In the case of an **unsmoothed bigram**, $p(v|w) = 0$ for most $v\\in V$, whereas in the **smoothed bigram** smoothing took care that $p(v|w) \\geq 0$ for *all* $v$.\n",
    "\n",
    "The function `plot_bigram_dist(word, bigram, smoothbigram, k=30)` plots shows $p(v|word)$ for the `k` words $v$. One bar shows the probabilities in `bigram` and one in `smoothbigram`. \n",
    "\n",
    "**(a)** Use this function to plot the distribution for at least two words `w` and answer the questions\n",
    "* What is the effect of smoothing on the bigram distribution of frequent words? \n",
    "* What is the effect in the case of infrequent words?\n",
    "* Explain the difference between the two based on the raw counts of `w` \n",
    "\n",
    "**(b)** Now experiment with $k$ much smaller than 1 (but greater than 0!) \n",
    "* What are the effects?\n",
    "\n",
    "\n",
    "**[Hint]** Remember that add-1 smoothing turns \n",
    "$$P(w_n\\mid w_{n-1}) = \\frac{C(w_{n-1}w_{n})}{C(w_{n-1})}$$\n",
    "into\n",
    "$$P_{add-1}(w_n\\mid w_{n-1}) = \\frac{C(w_{n-1}w_{n}) + 1}{C(w_{n-1}) + |V|}.$$\n",
    "\n",
    "What happens when $C(w_{n-1})$ is relatively big (similiar in of size as $ |V| $)? And what if $C(w_{n-1})$ is small? "
   ]
  },
  {
   "cell_type": "code",
   "execution_count": 8,
   "metadata": {},
   "outputs": [],
   "source": [
    "import pandas as pd\n",
    "import seaborn as sns    \n",
    "\n",
    "def plot_bigram_dist(word, bigram, smoothbigram, k=30):\n",
    "    d = bigram[word]\n",
    "    ds = smoothbigram[word]\n",
    "    \n",
    "    # sort the probabilities\n",
    "    d_sort = sorted(d.items(), reverse=True, key=lambda t: t[1])[0:k]\n",
    "    ds_sort = sorted(ds.items(), reverse=True, key=lambda t: t[1])[0:k]\n",
    "    \n",
    "    _, probs = zip(*d_sort)\n",
    "    smooth_ws, smooth_probs = zip(*ds_sort)\n",
    "    \n",
    "    # make up for the fact that in the unsmoothed case  probs is generally less than k long\n",
    "    probs = probs + (0,) * (k-len(probs)) \n",
    "\n",
    "    w_data = pd.DataFrame({\"w\": smooth_ws * 2,\n",
    "                           \"P({}|w)\".format(word): probs + smooth_probs,\n",
    "                           \"smoothing\": [\"unsmoothed\"]*k + [\"smoothed\"]*k})\n",
    "    \n",
    "    fig, ax = plt.subplots(figsize=(10,10))\n",
    "    plt.xticks(rotation=90)\n",
    "    g = sns.barplot(ax=ax, x=\"w\", y=\"P({}|w)\".format(word), hue=\"smoothing\",\n",
    "                    data=w_data, palette=\"Blues_d\")    "
   ]
  },
  {
   "cell_type": "code",
   "execution_count": 11,
   "metadata": {},
   "outputs": [
    {
     "data": {
      "image/png": "[encoded data removed]",
      "text/plain": [
       "<matplotlib.figure.Figure at 0x1e2b72e0cc0>"
      ]
     },
     "metadata": {},
     "output_type": "display_data"
    },
    {
     "data": {
      "image/png": "[encoded data removed]",
      "text/plain": [
       "<matplotlib.figure.Figure at 0x1e2a5534438>"
      ]
     },
     "metadata": {},
     "output_type": "display_data"
    }
   ],
   "source": [
    "frequent_word = \"the\"\n",
    "infrequent_word = \"Netflix\"\n",
    "\n",
    "unsmoothed_bigram, unigram = train_ngram(data, N=2)\n",
    "smoothed_bigram, _ = train_ngram(data, N=2, k=1)\n",
    "\n",
    "# Adjust dict keys to fit above function\n",
    "unsmoothed_bigram = {\n",
    "    history[0]: probs for history, probs in unsmoothed_bigram.items()\n",
    "}\n",
    "smoothed_bigram = {\n",
    "    history[0]: probs for history, probs in smoothed_bigram.items()\n",
    "}\n",
    "# Generate smoothed probabilities\n",
    "for word in unigram.keys():\n",
    "    smoothed_bigram[infrequent_word][word]\n",
    "\n",
    "plot_bigram_dist(frequent_word, unsmoothed_bigram, smoothed_bigram)\n",
    "plot_bigram_dist(infrequent_word, unsmoothed_bigram, smoothed_bigram)"
   ]
  },
  {
   "cell_type": "markdown",
   "metadata": {},
   "source": [
    "YOUR ANSWERS HERE"
   ]
  },
  {
   "cell_type": "markdown",
   "metadata": {},
   "source": [
    "\n",
    "**Recall** that if we have a sentence $w_1,\\dots,w_n$ we can write\n",
    "\n",
    "$$P(w_1\\dots w_n) = P(w_1)P(w_2|w_1) \\cdots P(w_i|w_1 \\dots w_{n-1}) \\approx P(w_1)P(w_2|w_1)\\cdots P(w_{N-1}|w_1\\dots w_{N-2})\\prod_{i=N}^{n} P(w_i|w_{i-(N-1)}\\dots w_{i-1})$$\n",
    "\n",
    "where in the last step we make an $N$-gram approximation of the full conditionals.\n",
    "\n",
    "For example, in the case of a bigram (N=2), the above expression reduces to\n",
    "\n",
    "$$P(w_1 \\dots w_n)\\approx P(w_1)\\prod_{i=2}^{n} P(w_i| w_{i-1}).$$\n",
    "\n",
    "## Exercise 2.4 (5 points)\n",
    "\n",
    "The following sentences are taken from the **training data**. Use your **unsmoothed unigram**, **bigram**, and **trigram** language model to estimate their **probabilities**:\n",
    "\n",
    "    1. Every day was about creating something new .\n",
    "    2. In this machine , a beam of protons and anti-protons are accelerated to near the speed of light and brought \n",
    "       together in a collision , producing a burst of pure energy .\n",
    "\n",
    "**Repeat** this with the **smoothed (add-1)** versions of the N-grams. What is the effect of smoothing on the probabilities?\n"
   ]
  },
  {
   "cell_type": "code",
   "execution_count": 16,
   "metadata": {},
   "outputs": [],
   "source": [
    "### YOUR CODE HERE ###"
   ]
  },
  {
   "cell_type": "markdown",
   "metadata": {},
   "source": [
    "YOUR ANSWERS HERE"
   ]
  },
  {
   "cell_type": "markdown",
   "metadata": {},
   "source": [
    "## Exercise 2.5 (5 points)\n",
    "\n",
    "The above sentences were taken from the training set, hence they will all have probability greater than 0. The big challenge for our language model are of course with sentence that contain unseen N-grams: if such an N-gram occurs our model immediately assigns the sentence probability zero.\n",
    "\n",
    "The following three senteces are taken from the **test set** availlable in the file **ted-test.txt**. What probabilities do your smoothed and unsmoothed language models asign in this case?\n",
    "\n",
    "    1. Because these robots are really safe .\n",
    "    2. We have sheer nothingness on one side , and we have this vision of a reality that encompasses every \n",
    "       conceivable world at the other extreme : the fullest possible reality , nothingness , the simplest possible \n",
    "       reality ."
   ]
  },
  {
   "cell_type": "code",
   "execution_count": null,
   "metadata": {
    "collapsed": true
   },
   "outputs": [],
   "source": [
    "### YOUR CODE HERE ###"
   ]
  },
  {
   "cell_type": "markdown",
   "metadata": {},
   "source": [
    "YOUR ANSWERS HERE"
   ]
  },
  {
   "cell_type": "markdown",
   "metadata": {},
   "source": [
    "### [Optional]\n",
    "\n",
    "**Optional** What percentage of the sentences in the test set get assigned probability 0 under your smoothed and unsmoothed language models? "
   ]
  },
  {
   "cell_type": "code",
   "execution_count": null,
   "metadata": {
    "collapsed": true
   },
   "outputs": [],
   "source": [
    "### ANSWER HERE ###"
   ]
  },
  {
   "cell_type": "markdown",
   "metadata": {},
   "source": [
    "## Exercise 2.6 (5 points)\n",
    "\n",
    "**Perplexity** is very frequently used **metric** for evaluating probabilistic models such as language models. The perplexity (sometimes called **PP** for short) of a language model on a sentence is the **inverse probability** of the sentence, **normalized** by the number of words:\n",
    "\n",
    "$$PP(w_1 \\dots w_n) = P(w_1\\dots w_n)^{-\\frac{1}{n}}.$$\n",
    "\n",
    "Here we can again approximate $P(w_1 \\dots w_n)$ with N-gram probabilities, as above.\n",
    "Note: $(x_1\\cdots x_n)^{-\\frac{1}{n}}$ is the **geometric mean** of the numbers $x_1,\\dots,x_n$. It is like the (regular) artithmetic mean, but with **products** instead of **sums**. The geometric mean is a more natural choice in the case of *PP* because behind $P(w_1\\dots w_n)$ is a series of $n$ products ([more here](https://en.wikipedia.org/wiki/Geometric_mean)).\n",
    "\n",
    "\n",
    "\n",
    "Compute the perplexity of the training sentences from excercise 2.1. What big difference between the **probabilities** of the sentences and the **perplexities** of the sentences do you notice?"
   ]
  },
  {
   "cell_type": "code",
   "execution_count": null,
   "metadata": {
    "collapsed": true
   },
   "outputs": [],
   "source": [
    "### YOUR CODE HERE ###"
   ]
  },
  {
   "cell_type": "markdown",
   "metadata": {},
   "source": [
    "YOUR ANSWER HERE"
   ]
  },
  {
   "cell_type": "markdown",
   "metadata": {},
   "source": [
    "# That's it!\n",
    "\n",
    "Congratulations, you have made it to the end of the tutorial. Here we will recap the gist of this notebook. \n",
    "\n",
    "**Make sure all your cells can be executed and all your answers are there. Then, read on if you're interested!**\n",
    "\n",
    "-----\n",
    "\n",
    "By now you should have a solid feeling for the problem of **sparsity in language data**; there's just never enough data. For the task of language modelling, we saw that sparsity is a serious challenge. \n",
    "\n",
    "It would be great to be able to model $p(w_n|w_1 \\dots w_{n-1})$ for unlimited $n$: the larger $n$ the better our language model should become at capturing the long-range dependencies between words that characterize actual human sentences, and the more probability our model will asign to such sentences as opposed to sentences that are word-soup. But in the N-gram approach, increasing $n$ will quickly kill all generalizing abilities of the model: the model will start to asign probabilities only to sentences it has seen in the training data.\n",
    "\n",
    "So, where to go from here? Here are three directions that we could head in.\n",
    "\n",
    "### Smoothing\n",
    "\n",
    "We have seen one example of smoothing in this lab: add-k smoothing. This is an easy method, both conceptually and implementation-wise. But the results are not great, and the effects it has on the distributions can be extreme.\n",
    "\n",
    "A much more sophisticated method of smoothing is so-called **Kneser-Ney smoothing**. The method is described in detail in section 4.5 of J&M (3rd edition). This is one of the best performing N-gram smoothing methods, and up to a few years ago a popular implementation of it called [KenLM](https://kheafield.com/code/kenlm/) gave state of the art results.\n",
    "\n",
    "### From words to characters\n",
    "\n",
    "In this lab we have considered language modeling as the task of predicting a **word** $w_n$ based on a history of **words** $w_1\\cdots w_n$. What if instead we let our basic units of modelling be **characters**? The task then becomes to model $p(c_k\\mid c_{k-N-1}\\dots c_{k-1})$ where each $c_i$ is now an ASCII character instead of an entire word.\n",
    "\n",
    "Suddenly sparsity of data is no longer a problem! The set of characters to use is tiny (< 100) compared to even a small-sized vocabulary as today. Have a look at this very illustrative notebook written by Yoav Golberg to see such a method in action: [The unreasonable effectiveness of Character-level Language Models](http://nbviewer.jupyter.org/gist/yoavg/d76121dfde2618422139).\n",
    "\n",
    "(So what is the downside?)\n",
    "\n",
    "\n",
    "### Neural language models\n",
    "\n",
    "The above notebook was actually written as a response to this blog post by Andrej Karpathy: [The Unreasonable Effectiveness of Recurrent Neural Networks](http://karpathy.github.io/2015/05/21/rnn-effectiveness/). Go ahead and read it if you haven't already: it is a superb introduction to the topic of Recurrent Neural Networks.\n",
    "\n",
    "Neural language models solve the problem of data sparsity in a different manner. Instead of estimating the probabilities $p(w_k\\mid w_{k-N-1}\\dots w_{k-1})$ by counting occurences in the data, they use a neural network $f_{\\theta}$ parametrized by parameters $\\theta$ to predict this probability. The parameters $\\theta$ are learned through optimization. \n",
    "\n",
    "The simplest approach goes like this: each word in the history $w_{k-N-1}\\dots w_{k-1}$ is embedded separately giving  vectors $e_{k-N-1}\\dots e_{k-1}$ and then concatenated into one long vectors $[e_{k-N-1};\\dots ;e_{k-1}]$. The network then uses this history vector to predict a probability distribution over words $w$ in the vocabulary $V$:\n",
    "\n",
    "$$p(w \\mid w_{k-N-1}\\dots w_{k-1}) = f_{\\theta}([e_{k-N-1};\\dots;e_{k-1}]).$$\n",
    "\n",
    "(In order to produce legitimate probabilities the final layer of such a network will be for example a $softmax$.)\n",
    "\n",
    "This provides a solution to the sparsity problem by having the network let the individual embeddings of the words in the history interact through its non-linear transforamtion. We are letting the network figure out the smoothing itself!\n",
    "\n",
    "RNNs are a clever extension of this idea, where a hidden state vector $h$ is re-used and updated at each step $k$ in order to store the information of the entire history up to step $k-1$. That is, an RNN actually does away with the N-order approximation; it tries to model the full conditional directly! That means that\n",
    "\n",
    "$$p(w \\mid w_1\\dots w_{k-1}) \\approx RNN_{\\theta}([e_{k-1};h_{k-1}])$$\n",
    "\n",
    "where the hidden state $h_{k-1}$ is a compression of the *entire history* $w_1\\dots w_{k-1}$.\n",
    "\n",
    "Another great place to learn about RNNs, their problems, and solutions to those, is on the blog of [Christopher Olah](http://colah.github.io/posts/2015-08-Understanding-LSTMs/). The project on language modelling will involve learning more about these methods. \n",
    "\n",
    "-----------\n",
    "(And now, it's time to read the classic essay by Eugene Wigner that gave both of the posts their title: [The Unreasonable Effectiveness of Mathematics in the Natural Sciences](http://www.dartmouth.edu/~matc/MathDrama/reading/Wigner.html))"
   ]
  }
 ],
 "metadata": {
  "anaconda-cloud": {},
  "kernelspec": {
   "display_name": "Python 3",
   "language": "python",
   "name": "python3"
  },
  "language_info": {
   "codemirror_mode": {
    "name": "ipython",
    "version": 3
   },
   "file_extension": ".py",
   "mimetype": "text/x-python",
   "name": "python",
   "nbconvert_exporter": "python",
   "pygments_lexer": "ipython3",
   "version": "3.6.2"
  }
 },
 "nbformat": 4,
 "nbformat_minor": 1
}
